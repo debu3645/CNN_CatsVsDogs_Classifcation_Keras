{
 "cells": [
  {
   "cell_type": "code",
   "execution_count": 2,
   "metadata": {},
   "outputs": [
    {
     "name": "stderr",
     "output_type": "stream",
     "text": [
      "Using TensorFlow backend.\n"
     ]
    }
   ],
   "source": [
    "# Part 1 - Building the CNN\n",
    "# Importing the Keras libraries and packages\n",
    "#import keras\n",
    "from keras.models import Sequential\n",
    "from keras.layers import Conv2D\n",
    "from keras.layers import MaxPooling2D\n",
    "from keras.layers import Flatten\n",
    "from keras.layers import Dense"
   ]
  },
  {
   "cell_type": "code",
   "execution_count": 45,
   "metadata": {
    "collapsed": true
   },
   "outputs": [],
   "source": [
    "# Initialising the CNN\n",
    "classifier = Sequential()"
   ]
  },
  {
   "cell_type": "code",
   "execution_count": 46,
   "metadata": {
    "collapsed": true
   },
   "outputs": [],
   "source": [
    "# Step 1 - Convolution\n",
    "classifier.add(Conv2D(32, (3, 3), input_shape = (64, 64, 3), activation = 'relu'))"
   ]
  },
  {
   "cell_type": "code",
   "execution_count": 47,
   "metadata": {
    "collapsed": true
   },
   "outputs": [],
   "source": [
    "# Step 2 - Pooling\n",
    "classifier.add(MaxPooling2D(pool_size = (2, 2)))\n",
    "\n",
    "#classifier.add(Dropout(0.25))"
   ]
  },
  {
   "cell_type": "code",
   "execution_count": 48,
   "metadata": {
    "collapsed": true
   },
   "outputs": [],
   "source": [
    "# Adding a second convolutional layer\n",
    "classifier.add(Conv2D(32, (3, 3), activation = 'relu'))\n",
    "classifier.add(MaxPooling2D(pool_size = (2, 2)))"
   ]
  },
  {
   "cell_type": "code",
   "execution_count": 49,
   "metadata": {
    "collapsed": true
   },
   "outputs": [],
   "source": [
    "# Step 3 - Flattening\n",
    "classifier.add(Flatten())"
   ]
  },
  {
   "cell_type": "code",
   "execution_count": 50,
   "metadata": {
    "collapsed": true
   },
   "outputs": [],
   "source": [
    "# Step 4 - Full connection\n",
    "classifier.add(Dense(units = 128, activation = 'relu'))\n",
    "#classifier.add(Dropout(0.25))\n",
    "classifier.add(Dense(units = 1, activation = 'sigmoid'))\n"
   ]
  },
  {
   "cell_type": "code",
   "execution_count": 71,
   "metadata": {},
   "outputs": [
    {
     "name": "stdout",
     "output_type": "stream",
     "text": [
      "_________________________________________________________________\n",
      "Layer (type)                 Output Shape              Param #   \n",
      "=================================================================\n",
      "conv2d_18 (Conv2D)           (None, 62, 62, 32)        896       \n",
      "_________________________________________________________________\n",
      "max_pooling2d_5 (MaxPooling2 (None, 31, 31, 32)        0         \n",
      "_________________________________________________________________\n",
      "conv2d_19 (Conv2D)           (None, 29, 29, 32)        9248      \n",
      "_________________________________________________________________\n",
      "max_pooling2d_6 (MaxPooling2 (None, 14, 14, 32)        0         \n",
      "_________________________________________________________________\n",
      "flatten_3 (Flatten)          (None, 6272)              0         \n",
      "_________________________________________________________________\n",
      "dense_5 (Dense)              (None, 128)               802944    \n",
      "_________________________________________________________________\n",
      "dense_6 (Dense)              (None, 1)                 129       \n",
      "=================================================================\n",
      "Total params: 813,217\n",
      "Trainable params: 813,217\n",
      "Non-trainable params: 0\n",
      "_________________________________________________________________\n"
     ]
    }
   ],
   "source": [
    "classifier.summary()"
   ]
  },
  {
   "cell_type": "code",
   "execution_count": 51,
   "metadata": {
    "collapsed": true
   },
   "outputs": [],
   "source": [
    "# Compiling the CNN\n",
    "classifier.compile(optimizer = 'adam', loss = 'binary_crossentropy', metrics = ['accuracy'])"
   ]
  },
  {
   "cell_type": "code",
   "execution_count": 54,
   "metadata": {
    "scrolled": true
   },
   "outputs": [
    {
     "name": "stdout",
     "output_type": "stream",
     "text": [
      "Found 19998 images belonging to 2 classes.\n",
      "Found 4998 images belonging to 2 classes.\n"
     ]
    }
   ],
   "source": [
    "# Part 2 - Fitting the CNN to the images\n",
    "\n",
    "from keras.preprocessing.image import ImageDataGenerator\n",
    "\n",
    "train_datagen = ImageDataGenerator(rescale = 1./255)\n",
    "\n",
    "test_datagen = ImageDataGenerator(rescale = 1./255)\n",
    "\n",
    "training_set = train_datagen.flow_from_directory('C:/Users/epatdeb/TensorFlow_Project_1/CNN_CatsDogs/Pets_cnn/training_set',\n",
    "                                                 target_size = (64, 64),\n",
    "                                                 batch_size = 32,\n",
    "                                                 class_mode = 'binary')\n",
    "test_set = test_datagen.flow_from_directory('C:/Users/epatdeb/TensorFlow_Project_1/CNN_CatsDogs/Pets_cnn/test_set',\n",
    "                                            target_size = (64, 64),\n",
    "                                            batch_size = 32,\n",
    "                                            class_mode = 'binary')\n"
   ]
  },
  {
   "cell_type": "code",
   "execution_count": 55,
   "metadata": {},
   "outputs": [
    {
     "name": "stdout",
     "output_type": "stream",
     "text": [
      "Epoch 1/2\n",
      "   11/19998 [..............................] - ETA: 8815s - loss: 0.0093 - acc: 0.9943"
     ]
    },
    {
     "name": "stderr",
     "output_type": "stream",
     "text": [
      "C:\\Users\\epatdeb\\AppData\\Local\\conda\\conda\\envs\\py36\\lib\\site-packages\\PIL\\TiffImagePlugin.py:692: UserWarning: Possibly corrupt EXIF data.  Expecting to read 80000 bytes but only got 0. Skipping tag 64640\n",
      "  \" Skipping tag %s\" % (size, len(data), tag))\n",
      "C:\\Users\\epatdeb\\AppData\\Local\\conda\\conda\\envs\\py36\\lib\\site-packages\\PIL\\TiffImagePlugin.py:692: UserWarning: Possibly corrupt EXIF data.  Expecting to read 6553600 bytes but only got 0. Skipping tag 49\n",
      "  \" Skipping tag %s\" % (size, len(data), tag))\n",
      "C:\\Users\\epatdeb\\AppData\\Local\\conda\\conda\\envs\\py36\\lib\\site-packages\\PIL\\TiffImagePlugin.py:692: UserWarning: Possibly corrupt EXIF data.  Expecting to read 1050744 bytes but only got 4951. Skipping tag 51\n",
      "  \" Skipping tag %s\" % (size, len(data), tag))\n",
      "C:\\Users\\epatdeb\\AppData\\Local\\conda\\conda\\envs\\py36\\lib\\site-packages\\PIL\\TiffImagePlugin.py:692: UserWarning: Possibly corrupt EXIF data.  Expecting to read 293339136 bytes but only got 0. Skipping tag 5\n",
      "  \" Skipping tag %s\" % (size, len(data), tag))\n",
      "C:\\Users\\epatdeb\\AppData\\Local\\conda\\conda\\envs\\py36\\lib\\site-packages\\PIL\\TiffImagePlugin.py:692: UserWarning: Possibly corrupt EXIF data.  Expecting to read 293863424 bytes but only got 0. Skipping tag 5\n",
      "  \" Skipping tag %s\" % (size, len(data), tag))\n",
      "C:\\Users\\epatdeb\\AppData\\Local\\conda\\conda\\envs\\py36\\lib\\site-packages\\PIL\\TiffImagePlugin.py:692: UserWarning: Possibly corrupt EXIF data.  Expecting to read 3368026112 bytes but only got 0. Skipping tag 7\n",
      "  \" Skipping tag %s\" % (size, len(data), tag))\n",
      "C:\\Users\\epatdeb\\AppData\\Local\\conda\\conda\\envs\\py36\\lib\\site-packages\\PIL\\TiffImagePlugin.py:692: UserWarning: Possibly corrupt EXIF data.  Expecting to read 134479872 bytes but only got 0. Skipping tag 7\n",
      "  \" Skipping tag %s\" % (size, len(data), tag))\n",
      "C:\\Users\\epatdeb\\AppData\\Local\\conda\\conda\\envs\\py36\\lib\\site-packages\\PIL\\TiffImagePlugin.py:692: UserWarning: Possibly corrupt EXIF data.  Expecting to read 295698432 bytes but only got 0. Skipping tag 10\n",
      "  \" Skipping tag %s\" % (size, len(data), tag))\n",
      "C:\\Users\\epatdeb\\AppData\\Local\\conda\\conda\\envs\\py36\\lib\\site-packages\\PIL\\TiffImagePlugin.py:692: UserWarning: Possibly corrupt EXIF data.  Expecting to read 296222720 bytes but only got 0. Skipping tag 5\n",
      "  \" Skipping tag %s\" % (size, len(data), tag))\n",
      "C:\\Users\\epatdeb\\AppData\\Local\\conda\\conda\\envs\\py36\\lib\\site-packages\\PIL\\TiffImagePlugin.py:692: UserWarning: Possibly corrupt EXIF data.  Expecting to read 3300917248 bytes but only got 0. Skipping tag 7\n",
      "  \" Skipping tag %s\" % (size, len(data), tag))\n",
      "C:\\Users\\epatdeb\\AppData\\Local\\conda\\conda\\envs\\py36\\lib\\site-packages\\PIL\\TiffImagePlugin.py:692: UserWarning: Possibly corrupt EXIF data.  Expecting to read 65536 bytes but only got 0. Skipping tag 3\n",
      "  \" Skipping tag %s\" % (size, len(data), tag))\n",
      "C:\\Users\\epatdeb\\AppData\\Local\\conda\\conda\\envs\\py36\\lib\\site-packages\\PIL\\TiffImagePlugin.py:692: UserWarning: Possibly corrupt EXIF data.  Expecting to read 14745600 bytes but only got 0. Skipping tag 4\n",
      "  \" Skipping tag %s\" % (size, len(data), tag))\n",
      "C:\\Users\\epatdeb\\AppData\\Local\\conda\\conda\\envs\\py36\\lib\\site-packages\\PIL\\TiffImagePlugin.py:692: UserWarning: Possibly corrupt EXIF data.  Expecting to read 25624576 bytes but only got 0. Skipping tag 4\n",
      "  \" Skipping tag %s\" % (size, len(data), tag))\n",
      "C:\\Users\\epatdeb\\AppData\\Local\\conda\\conda\\envs\\py36\\lib\\site-packages\\PIL\\TiffImagePlugin.py:692: UserWarning: Possibly corrupt EXIF data.  Expecting to read 317718528 bytes but only got 4956. Skipping tag 4\n",
      "  \" Skipping tag %s\" % (size, len(data), tag))\n",
      "C:\\Users\\epatdeb\\AppData\\Local\\conda\\conda\\envs\\py36\\lib\\site-packages\\PIL\\TiffImagePlugin.py:692: UserWarning: Possibly corrupt EXIF data.  Expecting to read 131073 bytes but only got 4952. Skipping tag 0\n",
      "  \" Skipping tag %s\" % (size, len(data), tag))\n",
      "C:\\Users\\epatdeb\\AppData\\Local\\conda\\conda\\envs\\py36\\lib\\site-packages\\PIL\\TiffImagePlugin.py:692: UserWarning: Possibly corrupt EXIF data.  Expecting to read 393216 bytes but only got 0. Skipping tag 3\n",
      "  \" Skipping tag %s\" % (size, len(data), tag))\n",
      "C:\\Users\\epatdeb\\AppData\\Local\\conda\\conda\\envs\\py36\\lib\\site-packages\\PIL\\TiffImagePlugin.py:692: UserWarning: Possibly corrupt EXIF data.  Expecting to read 287178752 bytes but only got 0. Skipping tag 5\n",
      "  \" Skipping tag %s\" % (size, len(data), tag))\n",
      "C:\\Users\\epatdeb\\AppData\\Local\\conda\\conda\\envs\\py36\\lib\\site-packages\\PIL\\TiffImagePlugin.py:692: UserWarning: Possibly corrupt EXIF data.  Expecting to read 287703040 bytes but only got 0. Skipping tag 5\n",
      "  \" Skipping tag %s\" % (size, len(data), tag))\n",
      "C:\\Users\\epatdeb\\AppData\\Local\\conda\\conda\\envs\\py36\\lib\\site-packages\\PIL\\TiffImagePlugin.py:692: UserWarning: Possibly corrupt EXIF data.  Expecting to read 131072 bytes but only got 0. Skipping tag 3\n",
      "  \" Skipping tag %s\" % (size, len(data), tag))\n",
      "C:\\Users\\epatdeb\\AppData\\Local\\conda\\conda\\envs\\py36\\lib\\site-packages\\PIL\\TiffImagePlugin.py:692: UserWarning: Possibly corrupt EXIF data.  Expecting to read 524288 bytes but only got 0. Skipping tag 4\n",
      "  \" Skipping tag %s\" % (size, len(data), tag))\n",
      "C:\\Users\\epatdeb\\AppData\\Local\\conda\\conda\\envs\\py36\\lib\\site-packages\\PIL\\TiffImagePlugin.py:692: UserWarning: Possibly corrupt EXIF data.  Expecting to read 286654464 bytes but only got 4956. Skipping tag 4\n",
      "  \" Skipping tag %s\" % (size, len(data), tag))\n",
      "C:\\Users\\epatdeb\\AppData\\Local\\conda\\conda\\envs\\py36\\lib\\site-packages\\PIL\\TiffImagePlugin.py:709: UserWarning: Corrupt EXIF data.  Expecting to read 12 bytes but only got 2. \n",
      "  warnings.warn(str(msg))\n"
     ]
    },
    {
     "name": "stdout",
     "output_type": "stream",
     "text": [
      "  169/19998 [..............................] - ETA: 5915s - loss: 0.0038 - acc: 0.9991"
     ]
    },
    {
     "name": "stderr",
     "output_type": "stream",
     "text": [
      "C:\\Users\\epatdeb\\AppData\\Local\\conda\\conda\\envs\\py36\\lib\\site-packages\\PIL\\TiffImagePlugin.py:692: UserWarning: Possibly corrupt EXIF data.  Expecting to read 209715200 bytes but only got 0. Skipping tag 48\n",
      "  \" Skipping tag %s\" % (size, len(data), tag))\n",
      "C:\\Users\\epatdeb\\AppData\\Local\\conda\\conda\\envs\\py36\\lib\\site-packages\\PIL\\TiffImagePlugin.py:692: UserWarning: Possibly corrupt EXIF data.  Expecting to read 52428800 bytes but only got 0. Skipping tag 0\n",
      "  \" Skipping tag %s\" % (size, len(data), tag))\n",
      "C:\\Users\\epatdeb\\AppData\\Local\\conda\\conda\\envs\\py36\\lib\\site-packages\\PIL\\TiffImagePlugin.py:692: UserWarning: Possibly corrupt EXIF data.  Expecting to read 6468665344 bytes but only got 0. Skipping tag 0\n",
      "  \" Skipping tag %s\" % (size, len(data), tag))\n",
      "C:\\Users\\epatdeb\\AppData\\Local\\conda\\conda\\envs\\py36\\lib\\site-packages\\PIL\\TiffImagePlugin.py:692: UserWarning: Possibly corrupt EXIF data.  Expecting to read 1050744 bytes but only got 7027. Skipping tag 48\n",
      "  \" Skipping tag %s\" % (size, len(data), tag))\n",
      "C:\\Users\\epatdeb\\AppData\\Local\\conda\\conda\\envs\\py36\\lib\\site-packages\\PIL\\TiffImagePlugin.py:692: UserWarning: Possibly corrupt EXIF data.  Expecting to read 422313984 bytes but only got 0. Skipping tag 5\n",
      "  \" Skipping tag %s\" % (size, len(data), tag))\n",
      "C:\\Users\\epatdeb\\AppData\\Local\\conda\\conda\\envs\\py36\\lib\\site-packages\\PIL\\TiffImagePlugin.py:692: UserWarning: Possibly corrupt EXIF data.  Expecting to read 422838272 bytes but only got 0. Skipping tag 5\n",
      "  \" Skipping tag %s\" % (size, len(data), tag))\n",
      "C:\\Users\\epatdeb\\AppData\\Local\\conda\\conda\\envs\\py36\\lib\\site-packages\\PIL\\TiffImagePlugin.py:692: UserWarning: Possibly corrupt EXIF data.  Expecting to read 428867584 bytes but only got 0. Skipping tag 10\n",
      "  \" Skipping tag %s\" % (size, len(data), tag))\n",
      "C:\\Users\\epatdeb\\AppData\\Local\\conda\\conda\\envs\\py36\\lib\\site-packages\\PIL\\TiffImagePlugin.py:692: UserWarning: Possibly corrupt EXIF data.  Expecting to read 429391872 bytes but only got 0. Skipping tag 5\n",
      "  \" Skipping tag %s\" % (size, len(data), tag))\n",
      "C:\\Users\\epatdeb\\AppData\\Local\\conda\\conda\\envs\\py36\\lib\\site-packages\\PIL\\TiffImagePlugin.py:692: UserWarning: Possibly corrupt EXIF data.  Expecting to read 2031616 bytes but only got 0. Skipping tag 3\n",
      "  \" Skipping tag %s\" % (size, len(data), tag))\n",
      "C:\\Users\\epatdeb\\AppData\\Local\\conda\\conda\\envs\\py36\\lib\\site-packages\\PIL\\TiffImagePlugin.py:692: UserWarning: Possibly corrupt EXIF data.  Expecting to read 429916160 bytes but only got 0. Skipping tag 5\n",
      "  \" Skipping tag %s\" % (size, len(data), tag))\n",
      "C:\\Users\\epatdeb\\AppData\\Local\\conda\\conda\\envs\\py36\\lib\\site-packages\\PIL\\TiffImagePlugin.py:692: UserWarning: Possibly corrupt EXIF data.  Expecting to read 21299200 bytes but only got 0. Skipping tag 4\n",
      "  \" Skipping tag %s\" % (size, len(data), tag))\n",
      "C:\\Users\\epatdeb\\AppData\\Local\\conda\\conda\\envs\\py36\\lib\\site-packages\\PIL\\TiffImagePlugin.py:692: UserWarning: Possibly corrupt EXIF data.  Expecting to read 24313856 bytes but only got 0. Skipping tag 4\n",
      "  \" Skipping tag %s\" % (size, len(data), tag))\n",
      "C:\\Users\\epatdeb\\AppData\\Local\\conda\\conda\\envs\\py36\\lib\\site-packages\\PIL\\TiffImagePlugin.py:692: UserWarning: Possibly corrupt EXIF data.  Expecting to read 453771264 bytes but only got 7032. Skipping tag 4\n",
      "  \" Skipping tag %s\" % (size, len(data), tag))\n",
      "C:\\Users\\epatdeb\\AppData\\Local\\conda\\conda\\envs\\py36\\lib\\site-packages\\PIL\\TiffImagePlugin.py:692: UserWarning: Possibly corrupt EXIF data.  Expecting to read 131073 bytes but only got 7028. Skipping tag 0\n",
      "  \" Skipping tag %s\" % (size, len(data), tag))\n",
      "C:\\Users\\epatdeb\\AppData\\Local\\conda\\conda\\envs\\py36\\lib\\site-packages\\PIL\\TiffImagePlugin.py:692: UserWarning: Possibly corrupt EXIF data.  Expecting to read 416415744 bytes but only got 0. Skipping tag 5\n",
      "  \" Skipping tag %s\" % (size, len(data), tag))\n",
      "C:\\Users\\epatdeb\\AppData\\Local\\conda\\conda\\envs\\py36\\lib\\site-packages\\PIL\\TiffImagePlugin.py:692: UserWarning: Possibly corrupt EXIF data.  Expecting to read 416940032 bytes but only got 0. Skipping tag 5\n",
      "  \" Skipping tag %s\" % (size, len(data), tag))\n",
      "C:\\Users\\epatdeb\\AppData\\Local\\conda\\conda\\envs\\py36\\lib\\site-packages\\PIL\\TiffImagePlugin.py:692: UserWarning: Possibly corrupt EXIF data.  Expecting to read 415825920 bytes but only got 7032. Skipping tag 4\n",
      "  \" Skipping tag %s\" % (size, len(data), tag))\n"
     ]
    },
    {
     "name": "stdout",
     "output_type": "stream",
     "text": [
      "  182/19998 [..............................] - ETA: 5944s - loss: 0.0039 - acc: 0.9991"
     ]
    },
    {
     "name": "stderr",
     "output_type": "stream",
     "text": [
      "C:\\Users\\epatdeb\\AppData\\Local\\conda\\conda\\envs\\py36\\lib\\site-packages\\PIL\\TiffImagePlugin.py:692: UserWarning: Possibly corrupt EXIF data.  Expecting to read 32 bytes but only got 0. Skipping tag 270\n",
      "  \" Skipping tag %s\" % (size, len(data), tag))\n",
      "C:\\Users\\epatdeb\\AppData\\Local\\conda\\conda\\envs\\py36\\lib\\site-packages\\PIL\\TiffImagePlugin.py:692: UserWarning: Possibly corrupt EXIF data.  Expecting to read 5 bytes but only got 0. Skipping tag 271\n",
      "  \" Skipping tag %s\" % (size, len(data), tag))\n",
      "C:\\Users\\epatdeb\\AppData\\Local\\conda\\conda\\envs\\py36\\lib\\site-packages\\PIL\\TiffImagePlugin.py:692: UserWarning: Possibly corrupt EXIF data.  Expecting to read 8 bytes but only got 0. Skipping tag 272\n",
      "  \" Skipping tag %s\" % (size, len(data), tag))\n",
      "C:\\Users\\epatdeb\\AppData\\Local\\conda\\conda\\envs\\py36\\lib\\site-packages\\PIL\\TiffImagePlugin.py:692: UserWarning: Possibly corrupt EXIF data.  Expecting to read 8 bytes but only got 0. Skipping tag 282\n",
      "  \" Skipping tag %s\" % (size, len(data), tag))\n",
      "C:\\Users\\epatdeb\\AppData\\Local\\conda\\conda\\envs\\py36\\lib\\site-packages\\PIL\\TiffImagePlugin.py:692: UserWarning: Possibly corrupt EXIF data.  Expecting to read 8 bytes but only got 0. Skipping tag 283\n",
      "  \" Skipping tag %s\" % (size, len(data), tag))\n",
      "C:\\Users\\epatdeb\\AppData\\Local\\conda\\conda\\envs\\py36\\lib\\site-packages\\PIL\\TiffImagePlugin.py:692: UserWarning: Possibly corrupt EXIF data.  Expecting to read 20 bytes but only got 0. Skipping tag 306\n",
      "  \" Skipping tag %s\" % (size, len(data), tag))\n",
      "C:\\Users\\epatdeb\\AppData\\Local\\conda\\conda\\envs\\py36\\lib\\site-packages\\PIL\\TiffImagePlugin.py:692: UserWarning: Possibly corrupt EXIF data.  Expecting to read 48 bytes but only got 0. Skipping tag 532\n",
      "  \" Skipping tag %s\" % (size, len(data), tag))\n",
      "C:\\Users\\epatdeb\\AppData\\Local\\conda\\conda\\envs\\py36\\lib\\site-packages\\PIL\\TiffImagePlugin.py:709: UserWarning: Corrupt EXIF data.  Expecting to read 2 bytes but only got 0. \n",
      "  warnings.warn(str(msg))\n"
     ]
    },
    {
     "name": "stdout",
     "output_type": "stream",
     "text": [
      "  483/19998 [..............................] - ETA: 6116s - loss: 0.0161 - acc: 0.9939"
     ]
    },
    {
     "name": "stderr",
     "output_type": "stream",
     "text": [
      "C:\\Users\\epatdeb\\AppData\\Local\\conda\\conda\\envs\\py36\\lib\\site-packages\\PIL\\TiffImagePlugin.py:692: UserWarning: Possibly corrupt EXIF data.  Expecting to read 404094976 bytes but only got 0. Skipping tag 5\n",
      "  \" Skipping tag %s\" % (size, len(data), tag))\n",
      "C:\\Users\\epatdeb\\AppData\\Local\\conda\\conda\\envs\\py36\\lib\\site-packages\\PIL\\TiffImagePlugin.py:692: UserWarning: Possibly corrupt EXIF data.  Expecting to read 404619264 bytes but only got 0. Skipping tag 5\n",
      "  \" Skipping tag %s\" % (size, len(data), tag))\n",
      "C:\\Users\\epatdeb\\AppData\\Local\\conda\\conda\\envs\\py36\\lib\\site-packages\\PIL\\TiffImagePlugin.py:692: UserWarning: Possibly corrupt EXIF data.  Expecting to read 425459712 bytes but only got 0. Skipping tag 4\n",
      "  \" Skipping tag %s\" % (size, len(data), tag))\n",
      "C:\\Users\\epatdeb\\AppData\\Local\\conda\\conda\\envs\\py36\\lib\\site-packages\\PIL\\TiffImagePlugin.py:692: UserWarning: Possibly corrupt EXIF data.  Expecting to read 1385474 bytes but only got 6833. Skipping tag 513\n",
      "  \" Skipping tag %s\" % (size, len(data), tag))\n",
      "C:\\Users\\epatdeb\\AppData\\Local\\conda\\conda\\envs\\py36\\lib\\site-packages\\PIL\\TiffImagePlugin.py:692: UserWarning: Possibly corrupt EXIF data.  Expecting to read 3846701056 bytes but only got 0. Skipping tag 2\n",
      "  \" Skipping tag %s\" % (size, len(data), tag))\n",
      "C:\\Users\\epatdeb\\AppData\\Local\\conda\\conda\\envs\\py36\\lib\\site-packages\\PIL\\TiffImagePlugin.py:692: UserWarning: Possibly corrupt EXIF data.  Expecting to read 196867 bytes but only got 6833. Skipping tag 0\n",
      "  \" Skipping tag %s\" % (size, len(data), tag))\n",
      "C:\\Users\\epatdeb\\AppData\\Local\\conda\\conda\\envs\\py36\\lib\\site-packages\\PIL\\TiffImagePlugin.py:709: UserWarning: Corrupt EXIF data.  Expecting to read 12 bytes but only got 8. \n",
      "  warnings.warn(str(msg))\n"
     ]
    },
    {
     "name": "stdout",
     "output_type": "stream",
     "text": [
      "  487/19998 [..............................] - ETA: 6110s - loss: 0.0161 - acc: 0.9939"
     ]
    },
    {
     "name": "stderr",
     "output_type": "stream",
     "text": [
      "C:\\Users\\epatdeb\\AppData\\Local\\conda\\conda\\envs\\py36\\lib\\site-packages\\PIL\\TiffImagePlugin.py:692: UserWarning: Possibly corrupt EXIF data.  Expecting to read 18350080 bytes but only got 0. Skipping tag 0\n",
      "  \" Skipping tag %s\" % (size, len(data), tag))\n",
      "C:\\Users\\epatdeb\\AppData\\Local\\conda\\conda\\envs\\py36\\lib\\site-packages\\PIL\\TiffImagePlugin.py:709: UserWarning: Corrupt EXIF data.  Expecting to read 12 bytes but only got 6. \n",
      "  warnings.warn(str(msg))\n"
     ]
    },
    {
     "name": "stdout",
     "output_type": "stream",
     "text": [
      "  530/19998 [..............................] - ETA: 6078s - loss: 0.0181 - acc: 0.9933"
     ]
    },
    {
     "name": "stderr",
     "output_type": "stream",
     "text": [
      "C:\\Users\\epatdeb\\AppData\\Local\\conda\\conda\\envs\\py36\\lib\\site-packages\\PIL\\TiffImagePlugin.py:692: UserWarning: Possibly corrupt EXIF data.  Expecting to read 262146 bytes but only got 0. Skipping tag 2\n",
      "  \" Skipping tag %s\" % (size, len(data), tag))\n",
      "C:\\Users\\epatdeb\\AppData\\Local\\conda\\conda\\envs\\py36\\lib\\site-packages\\PIL\\TiffImagePlugin.py:692: UserWarning: Possibly corrupt EXIF data.  Expecting to read 262151 bytes but only got 0. Skipping tag 56\n",
      "  \" Skipping tag %s\" % (size, len(data), tag))\n",
      "C:\\Users\\epatdeb\\AppData\\Local\\conda\\conda\\envs\\py36\\lib\\site-packages\\PIL\\TiffImagePlugin.py:709: UserWarning: Corrupt EXIF data.  Expecting to read 12 bytes but only got 0. \n",
      "  warnings.warn(str(msg))\n"
     ]
    },
    {
     "name": "stdout",
     "output_type": "stream",
     "text": [
      "  579/19998 [..............................] - ETA: 6058s - loss: 0.0199 - acc: 0.9927"
     ]
    },
    {
     "name": "stderr",
     "output_type": "stream",
     "text": [
      "C:\\Users\\epatdeb\\AppData\\Local\\conda\\conda\\envs\\py36\\lib\\site-packages\\PIL\\TiffImagePlugin.py:692: UserWarning: Possibly corrupt EXIF data.  Expecting to read 307363840 bytes but only got 0. Skipping tag 5\n",
      "  \" Skipping tag %s\" % (size, len(data), tag))\n",
      "C:\\Users\\epatdeb\\AppData\\Local\\conda\\conda\\envs\\py36\\lib\\site-packages\\PIL\\TiffImagePlugin.py:692: UserWarning: Possibly corrupt EXIF data.  Expecting to read 307888128 bytes but only got 0. Skipping tag 5\n",
      "  \" Skipping tag %s\" % (size, len(data), tag))\n",
      "C:\\Users\\epatdeb\\AppData\\Local\\conda\\conda\\envs\\py36\\lib\\site-packages\\PIL\\TiffImagePlugin.py:692: UserWarning: Possibly corrupt EXIF data.  Expecting to read 328728576 bytes but only got 0. Skipping tag 4\n",
      "  \" Skipping tag %s\" % (size, len(data), tag))\n",
      "C:\\Users\\epatdeb\\AppData\\Local\\conda\\conda\\envs\\py36\\lib\\site-packages\\PIL\\TiffImagePlugin.py:692: UserWarning: Possibly corrupt EXIF data.  Expecting to read 1385474 bytes but only got 5357. Skipping tag 513\n",
      "  \" Skipping tag %s\" % (size, len(data), tag))\n",
      "C:\\Users\\epatdeb\\AppData\\Local\\conda\\conda\\envs\\py36\\lib\\site-packages\\PIL\\TiffImagePlugin.py:692: UserWarning: Possibly corrupt EXIF data.  Expecting to read 196867 bytes but only got 5357. Skipping tag 0\n",
      "  \" Skipping tag %s\" % (size, len(data), tag))\n"
     ]
    },
    {
     "name": "stdout",
     "output_type": "stream",
     "text": [
      "19998/19998 [==============================] - 16766s - loss: 0.0138 - acc: 0.9956 - val_loss: 1.6854 - val_acc: 0.7879\n",
      "Epoch 2/2\n",
      "19998/19998 [==============================] - 48827s - loss: 0.0044 - acc: 0.9987 - val_loss: 1.9599 - val_acc: 0.7857\n"
     ]
    },
    {
     "data": {
      "text/plain": [
       "<keras.callbacks.History at 0x15183a90>"
      ]
     },
     "execution_count": 55,
     "metadata": {},
     "output_type": "execute_result"
    }
   ],
   "source": [
    "# I have already run the training model as it take some time. Original epoch #25\n",
    "classifier.fit_generator(training_set,\n",
    "                         steps_per_epoch = 19998,\n",
    "                         epochs = 2, \n",
    "                         validation_data = test_set,\n",
    "                         validation_steps = 4998)\n",
    "\n"
   ]
  },
  {
   "cell_type": "code",
   "execution_count": 1,
   "metadata": {},
   "outputs": [
    {
     "ename": "NameError",
     "evalue": "name 'keras' is not defined",
     "output_type": "error",
     "traceback": [
      "\u001b[1;31m---------------------------------------------------------------------------\u001b[0m",
      "\u001b[1;31mNameError\u001b[0m                                 Traceback (most recent call last)",
      "\u001b[1;32m<ipython-input-1-ef8f56eac372>\u001b[0m in \u001b[0;36m<module>\u001b[1;34m()\u001b[0m\n\u001b[0;32m      1\u001b[0m \u001b[1;31m# Part 3 - Making new predictions\u001b[0m\u001b[1;33m\u001b[0m\u001b[1;33m\u001b[0m\u001b[0m\n\u001b[1;32m----> 2\u001b[1;33m \u001b[0mtest_image\u001b[0m \u001b[1;33m=\u001b[0m \u001b[0mkeras\u001b[0m\u001b[1;33m.\u001b[0m\u001b[0mpreprocessing\u001b[0m\u001b[1;33m.\u001b[0m\u001b[0mimage\u001b[0m\u001b[1;33m.\u001b[0m\u001b[0mload_img\u001b[0m\u001b[1;33m(\u001b[0m\u001b[1;34m'C:/Users/epatdeb/TensorFlow_Project_1/CNN_CatsDogs/Pets_cnn/predict/c_5.jpg'\u001b[0m\u001b[1;33m,\u001b[0m\u001b[0mtarget_size\u001b[0m \u001b[1;33m=\u001b[0m \u001b[1;33m(\u001b[0m\u001b[1;36m300\u001b[0m\u001b[1;33m,\u001b[0m \u001b[1;36m300\u001b[0m\u001b[1;33m)\u001b[0m\u001b[1;33m)\u001b[0m \u001b[1;31m#\u001b[0m\u001b[1;33m\u001b[0m\u001b[0m\n\u001b[0m\u001b[0;32m      3\u001b[0m \u001b[1;32mimport\u001b[0m \u001b[0mmatplotlib\u001b[0m\u001b[1;33m.\u001b[0m\u001b[0mpyplot\u001b[0m \u001b[1;32mas\u001b[0m \u001b[0mplt\u001b[0m\u001b[1;33m\u001b[0m\u001b[0m\n\u001b[0;32m      4\u001b[0m \u001b[1;32mfrom\u001b[0m \u001b[0mmatplotlib\u001b[0m\u001b[1;33m.\u001b[0m\u001b[0mpyplot\u001b[0m \u001b[1;32mimport\u001b[0m \u001b[0mimshow\u001b[0m\u001b[1;33m\u001b[0m\u001b[0m\n\u001b[0;32m      5\u001b[0m \u001b[0mget_ipython\u001b[0m\u001b[1;33m(\u001b[0m\u001b[1;33m)\u001b[0m\u001b[1;33m.\u001b[0m\u001b[0mmagic\u001b[0m\u001b[1;33m(\u001b[0m\u001b[1;34m'matplotlib inline'\u001b[0m\u001b[1;33m)\u001b[0m\u001b[1;33m\u001b[0m\u001b[0m\n",
      "\u001b[1;31mNameError\u001b[0m: name 'keras' is not defined"
     ]
    }
   ],
   "source": [
    "# Part 3 - Making new predictions\n",
    "test_image = keras.preprocessing.image.load_img('C:/Users/epatdeb/TensorFlow_Project_1/CNN_CatsDogs/Pets_cnn/predict/c_5.jpg',target_size = (300, 300)) #\n",
    "import matplotlib.pyplot as plt\n",
    "from matplotlib.pyplot import imshow\n",
    "%matplotlib inline\n",
    "#plt.figure(1)\n",
    "plt.imshow(test_image)\n"
   ]
  },
  {
   "cell_type": "code",
   "execution_count": 60,
   "metadata": {},
   "outputs": [
    {
     "name": "stdout",
     "output_type": "stream",
     "text": [
      "(64, 64, 3)\n",
      "*****************\n",
      "[[[[  42.    6.    8.]\n",
      "   [  57.    1.   10.]\n",
      "   [  73.    0.   12.]\n",
      "   ..., \n",
      "   [  80.   73.   65.]\n",
      "   [  75.   70.   64.]\n",
      "   [  71.   66.   62.]]\n",
      "\n",
      "  [[  58.    0.    7.]\n",
      "   [  80.    2.   18.]\n",
      "   [ 100.    7.   26.]\n",
      "   ..., \n",
      "   [  77.   68.   61.]\n",
      "   [  73.   66.   60.]\n",
      "   [  69.   61.   58.]]\n",
      "\n",
      "  [[  90.    3.   22.]\n",
      "   [ 107.    7.   31.]\n",
      "   [ 122.   12.   37.]\n",
      "   ..., \n",
      "   [  58.   47.   41.]\n",
      "   [  54.   45.   40.]\n",
      "   [  51.   41.   39.]]\n",
      "\n",
      "  ..., \n",
      "  [[ 103.   97.   97.]\n",
      "   [ 187.  183.  182.]\n",
      "   [ 197.  196.  194.]\n",
      "   ..., \n",
      "   [ 154.  157.  162.]\n",
      "   [ 155.  158.  163.]\n",
      "   [ 157.  160.  165.]]\n",
      "\n",
      "  [[  95.   89.   89.]\n",
      "   [ 185.  181.  180.]\n",
      "   [ 196.  195.  193.]\n",
      "   ..., \n",
      "   [ 157.  160.  165.]\n",
      "   [ 155.  158.  163.]\n",
      "   [ 152.  155.  160.]]\n",
      "\n",
      "  [[  83.   77.   77.]\n",
      "   [ 180.  176.  175.]\n",
      "   [ 194.  193.  191.]\n",
      "   ..., \n",
      "   [ 161.  164.  169.]\n",
      "   [ 155.  158.  163.]\n",
      "   [ 145.  148.  153.]]]]\n",
      "**********************\n",
      "[[ 0.]]\n",
      "**********************\n"
     ]
    },
    {
     "data": {
      "text/plain": [
       "'cat'"
      ]
     },
     "execution_count": 60,
     "metadata": {},
     "output_type": "execute_result"
    }
   ],
   "source": [
    "import numpy as np\n",
    "from keras.preprocessing import image\n",
    "test_image = image.load_img('C:/Users/epatdeb/TensorFlow_Project_1/CNN_CatsDogs/Pets_cnn/predict/c_5.jpg', target_size = (64, 64))\n",
    "test_image = image.img_to_array(test_image)\n",
    "print (np.shape(test_image))\n",
    "print (\"*****************\")\n",
    "test_image = np.expand_dims(test_image, axis = 0)\n",
    "print (test_image)\n",
    "result = classifier.predict(test_image)\n",
    "print (\"**********************\")\n",
    "print (result)\n",
    "print (\"**********************\")\n",
    "training_set.class_indices\n",
    "if result[0][0] == 1:\n",
    "    prediction = 'dog'\n",
    "else:\n",
    "    prediction = 'cat'\n",
    "prediction"
   ]
  },
  {
   "cell_type": "code",
   "execution_count": 58,
   "metadata": {},
   "outputs": [
    {
     "data": {
      "text/plain": [
       "{'Cat': 0, 'Dog': 1}"
      ]
     },
     "execution_count": 58,
     "metadata": {},
     "output_type": "execute_result"
    }
   ],
   "source": [
    "training_set.class_indices"
   ]
  },
  {
   "cell_type": "code",
   "execution_count": 70,
   "metadata": {},
   "outputs": [
    {
     "name": "stdout",
     "output_type": "stream",
     "text": [
      "[ 0.0413707   0.11245721  0.01521943  0.83095266]\n"
     ]
    }
   ],
   "source": [
    "def softmax(X):\n",
    "    exps = np.exp(X)\n",
    "    return exps / np.sum(exps)\n",
    "\n",
    "s8 = softmax([2, 3, 1, 5])\n",
    "print (s8)"
   ]
  }
 ],
 "metadata": {
  "kernelspec": {
   "display_name": "Python 3",
   "language": "python",
   "name": "python3"
  },
  "language_info": {
   "codemirror_mode": {
    "name": "ipython",
    "version": 3
   },
   "file_extension": ".py",
   "mimetype": "text/x-python",
   "name": "python",
   "nbconvert_exporter": "python",
   "pygments_lexer": "ipython3",
   "version": "3.6.1"
  }
 },
 "nbformat": 4,
 "nbformat_minor": 2
}
